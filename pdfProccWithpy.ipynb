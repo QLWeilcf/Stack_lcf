{
 "cells": [
  {
   "cell_type": "code",
   "execution_count": 1,
   "metadata": {
    "ExecuteTime": {
     "end_time": "2019-02-25T09:18:39.375483Z",
     "start_time": "2019-02-25T09:18:39.358561Z"
    }
   },
   "outputs": [],
   "source": [
    "import os\n",
    "from PyPDF2 import PdfFileReader, PdfFileWriter #导入需要的类\n",
    "wp='D:/doc_of_pdf/' #work_path"
   ]
  },
  {
   "cell_type": "code",
   "execution_count": 2,
   "metadata": {
    "ExecuteTime": {
     "end_time": "2019-02-25T09:18:42.203669Z",
     "start_time": "2019-02-25T09:18:42.193683Z"
    },
    "scrolled": true
   },
   "outputs": [
    {
     "data": {
      "text/plain": [
       "['D:/doc_of_pdf/笔记-1-第一章.pdf',\n",
       " 'D:/doc_of_pdf/笔记-2-第二章.pdf',\n",
       " 'D:/doc_of_pdf/笔记-3-第三章.pdf']"
      ]
     },
     "execution_count": 2,
     "metadata": {},
     "output_type": "execute_result"
    }
   ],
   "source": [
    "#合并同一个文件夹下的pdf文件\n",
    "flst=[] #获得pdf文件路径\n",
    "for root, dirs, files in os.walk(wp):\n",
    "    flst=files\n",
    "flst=[wp+f for f in flst]\n",
    "flst"
   ]
  },
  {
   "cell_type": "code",
   "execution_count": 5,
   "metadata": {
    "ExecuteTime": {
     "end_time": "2019-02-25T09:31:05.821565Z",
     "start_time": "2019-02-25T09:31:05.816586Z"
    }
   },
   "outputs": [
    {
     "name": "stdout",
     "output_type": "stream",
     "text": [
      "['合并笔记_1-3章.pdf', '笔记-1-第一章.pdf', '笔记-2-第二章.pdf', '笔记-3-第三章.pdf']\n"
     ]
    }
   ],
   "source": [
    "for root, dirs, files in os.walk(wp):\n",
    "    print(files)"
   ]
  },
  {
   "cell_type": "code",
   "execution_count": 3,
   "metadata": {
    "ExecuteTime": {
     "end_time": "2019-02-25T09:26:47.150861Z",
     "start_time": "2019-02-25T09:26:45.957733Z"
    }
   },
   "outputs": [
    {
     "data": {
      "text/plain": [
       "174"
      ]
     },
     "execution_count": 3,
     "metadata": {},
     "output_type": "execute_result"
    }
   ],
   "source": [
    "out_pdf=PdfFileWriter()\n",
    "for pf in flst:\n",
    "    in_pdf=PdfFileReader(open(pf, 'rb')) #二进制打开\n",
    "    page_count=in_pdf.getNumPages() #输入pdf的页数\n",
    "    for pc in range(page_count): \n",
    "        out_pdf.addPage(in_pdf.getPage(pc)) #逐页循环\n",
    "with open(wp+'合并笔记_1-3章.pdf','wb') as wf:\n",
    "    out_pdf.write(wf)\n",
    "out_pdf.getNumPages()"
   ]
  },
  {
   "cell_type": "code",
   "execution_count": 8,
   "metadata": {
    "ExecuteTime": {
     "end_time": "2019-02-25T09:43:26.645153Z",
     "start_time": "2019-02-25T09:43:26.442091Z"
    }
   },
   "outputs": [],
   "source": [
    "#将一个pdf文件根据一定规则切分为多个\n",
    "\n",
    "sc_pdf=PdfFileReader(open(flst[0], 'rb')) #对第一章笔记进行处理\n",
    "count_sc=sc_pdf.getNumPages()\n",
    "#每7页切分为1个PDF文件\n",
    "out_pdf=PdfFileWriter() #用以输出pdf\n",
    "for c in range(count_sc):\n",
    "    if c%7==0 and c>0:\n",
    "        with open(wp+'切分_{0}.pdf'.format(c),'wb') as wf:\n",
    "            out_pdf.write(wf)\n",
    "        out_pdf=PdfFileWriter() #重建一个空对象\n",
    "    else:\n",
    "        out_pdf.addPage(sc_pdf.getPage(c))"
   ]
  },
  {
   "cell_type": "code",
   "execution_count": 7,
   "metadata": {
    "ExecuteTime": {
     "end_time": "2019-02-25T09:41:07.964024Z",
     "start_time": "2019-02-25T09:41:07.959060Z"
    }
   },
   "outputs": [
    {
     "data": {
      "text/plain": [
       "0"
      ]
     },
     "execution_count": 7,
     "metadata": {},
     "output_type": "execute_result"
    }
   ],
   "source": []
  },
  {
   "cell_type": "code",
   "execution_count": null,
   "metadata": {},
   "outputs": [],
   "source": []
  }
 ],
 "metadata": {
  "kernelspec": {
   "display_name": "Python 3",
   "language": "python",
   "name": "python3"
  },
  "language_info": {
   "codemirror_mode": {
    "name": "ipython",
    "version": 3
   },
   "file_extension": ".py",
   "mimetype": "text/x-python",
   "name": "python",
   "nbconvert_exporter": "python",
   "pygments_lexer": "ipython3",
   "version": "3.7.0"
  },
  "toc": {
   "base_numbering": 1,
   "nav_menu": {},
   "number_sections": true,
   "sideBar": true,
   "skip_h1_title": false,
   "title_cell": "Table of Contents",
   "title_sidebar": "Contents",
   "toc_cell": false,
   "toc_position": {},
   "toc_section_display": true,
   "toc_window_display": false
  }
 },
 "nbformat": 4,
 "nbformat_minor": 2
}
