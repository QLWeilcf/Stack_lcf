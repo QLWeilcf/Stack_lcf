{
 "cells": [
  {
   "cell_type": "markdown",
   "metadata": {},
   "source": [
    "图灵图书《算法新解》的自己思考、实现和笔记；当做求职过程中对算法和数据结构的复习。*(将其中的一些算法用Python实现)*"
   ]
  },
  {
   "cell_type": "markdown",
   "metadata": {},
   "source": [
    "**前言**\n",
    "\n",
    "求最小可分配ID (限定了id为非负整数)"
   ]
  },
  {
   "cell_type": "code",
   "execution_count": 4,
   "metadata": {
    "collapsed": false
   },
   "outputs": [],
   "source": [
    "ulst=[18,4,8,9,16,1,14,7,19,3,0,5,2,11,6] #using id list\n",
    "def minFreeID(ulst):\n",
    "    minID=0\n",
    "    maxID=ulst[0]\n",
    "    for i in ulst:\n",
    "        if i>minID:#当前用的ID比最小可用ID大\n",
    "            if i<maxID:\n",
    "                maxID=i\n",
    "        else:\n",
    "            pass\n"
   ]
  },
  {
   "cell_type": "code",
   "execution_count": 17,
   "metadata": {
    "collapsed": false
   },
   "outputs": [
    {
     "name": "stdout",
     "output_type": "stream",
     "text": [
      "['c', 'a', 'b']\n"
     ]
    }
   ],
   "source": [
    "#额外的代码，排序字典\n",
    "d={'a':2,'b':3,'c':1} #['c','a','b']\n",
    "def sortDict1(d): #用数组，n+n^2+n => O(n^2)\n",
    "    alst=[]\n",
    "    for k,v in d.items():\n",
    "        blst=[v,k]\n",
    "        alst.append(blst)\n",
    "    #冒泡法\n",
    "    a_len=len(alst)\n",
    "    for i in range(a_len):\n",
    "        for j in range(a_len-1):\n",
    "            if alst[j][0]>alst[j+1][0]:\n",
    "                alst[j+1][0],alst[j][0]=alst[j][0],alst[j+1][0]\n",
    "                alst[j+1][1],alst[j][1]=alst[j][1],alst[j+1][1]\n",
    "    clst=[]\n",
    "    #print(alst)\n",
    "    for i in range(a_len):\n",
    "        clst.append(alst[i][1])\n",
    "    return clst\n",
    "\n",
    "def sortDict2(d): #sorted(iterable[, cmp[, key[, reverse]]]）\n",
    "    kd=sorted(d.items(),key=lambda e:e[1])#reverse=False  默认是FALSE，升序\n",
    "    #=lambda e: (e[1], e[0]) 则为先按值排序，再按键排序\n",
    "    #得到的kd为元组组成的列表\n",
    "    clst=[i[0] for i in kd]\n",
    "    '''对这个进行补充，参考知乎：如想对更多的key进行排序，如对k=[(1,2,3,4),(1,2,3,5),(1,2,2,5)]先比最后一个，\n",
    "    再比倒数第二个，最后比第一个只需在lambda表达式处返回相应元组即可：sorted(k, key=lambda x: (x[3],x[2],x[1],x[0]))\n",
    "    Out[1]: [(1, 2, 3, 4), (1, 2, 2, 5), (1, 2, 3, 5)]\n",
    "    '''\n",
    "    return clst\n",
    "k=sortDict2(d)\n",
    "print(k)"
   ]
  },
  {
   "cell_type": "code",
   "execution_count": 19,
   "metadata": {
    "collapsed": false
   },
   "outputs": [],
   "source": [
    "def sortBu(alst):\n",
    "    a_len=len(alst)\n",
    "    for i in range(a_len):\n",
    "        for j in range(0,a_len-1):\n",
    "            if alst[j]>alst[j+1]:\n",
    "                alst[j+1],alst[j]=alst[j],alst[j+1]\n",
    "    print(alst)\n",
    "    \n",
    "a=[3,5,1,7,9]\n",
    "b=[9,8,7,6,5,4,3]\n",
    "d={'a':2,'b':3,'c':1} \n"
   ]
  },
  {
   "cell_type": "code",
   "execution_count": null,
   "metadata": {
    "collapsed": true
   },
   "outputs": [],
   "source": []
  }
 ],
 "metadata": {
  "kernelspec": {
   "display_name": "Python 3",
   "language": "python",
   "name": "python3"
  },
  "language_info": {
   "codemirror_mode": {
    "name": "ipython",
    "version": 3
   },
   "file_extension": ".py",
   "mimetype": "text/x-python",
   "name": "python",
   "nbconvert_exporter": "python",
   "pygments_lexer": "ipython3",
   "version": "3.6.0"
  }
 },
 "nbformat": 4,
 "nbformat_minor": 2
}
