{
 "cells": [
  {
   "cell_type": "markdown",
   "metadata": {},
   "source": [
    "《剑指offer》中一些题目的Python实现，由于精力关系，不会全部都用Python实现，会增加其他地方发现的好题目，不拘泥于《剑指offer》中的书。"
   ]
  },
  {
   "cell_type": "markdown",
   "metadata": {},
   "source": [
    "目录\n"
   ]
  },
  {
   "cell_type": "markdown",
   "metadata": {},
   "source": [
    "### 面试题3 二维递增数组中的查找\n",
    "> 描述：二维数组中，每行从左到右递增，每列从上到下递增，给出一个数，判断它是否在数组中；\n",
    "\n",
    "> 思路：从左下角或者右上角开始比较"
   ]
  },
  {
   "cell_type": "code",
   "execution_count": 1,
   "metadata": {
    "collapsed": true
   },
   "outputs": [],
   "source": [
    "def findInPartiallySortedMatrix(mat,n):\n",
    "    '''\n",
    "    param mat: like a matrix [[]] ; n: int \n",
    "    return bool\n",
    "    '''\n",
    "    if not mat:\n",
    "        return False\n",
    "    "
   ]
  },
  {
   "cell_type": "code",
   "execution_count": null,
   "metadata": {
    "collapsed": true
   },
   "outputs": [],
   "source": []
  },
  {
   "cell_type": "code",
   "execution_count": null,
   "metadata": {
    "collapsed": true
   },
   "outputs": [],
   "source": []
  },
  {
   "cell_type": "code",
   "execution_count": null,
   "metadata": {
    "collapsed": true
   },
   "outputs": [],
   "source": []
  },
  {
   "cell_type": "code",
   "execution_count": null,
   "metadata": {
    "collapsed": true
   },
   "outputs": [],
   "source": []
  },
  {
   "cell_type": "code",
   "execution_count": null,
   "metadata": {
    "collapsed": true
   },
   "outputs": [],
   "source": []
  },
  {
   "cell_type": "code",
   "execution_count": null,
   "metadata": {
    "collapsed": true
   },
   "outputs": [],
   "source": []
  },
  {
   "cell_type": "markdown",
   "metadata": {},
   "source": [
    "### 根据字典值排序字典\n",
    "> 描述：对形如d={'a':2,'b':3,'c':1}的字典根据值排序键\n",
    "\n",
    "> 思路：用sorted()排序or转为列表用插入排序/快排等"
   ]
  },
  {
   "cell_type": "code",
   "execution_count": 2,
   "metadata": {
    "collapsed": false
   },
   "outputs": [
    {
     "name": "stdout",
     "output_type": "stream",
     "text": [
      "['c', 'a', 'b']\n"
     ]
    }
   ],
   "source": [
    "def sortDict1(d): #sorted(iterable[, cmp[, key[, reverse]]]）\n",
    "    kd=sorted(d.items(),key=lambda e:e[1])#reverse=False  默认是FALSE，升序\n",
    "    #=lambda e: (e[1], e[0]) 则为先按值排序，再按键排序\n",
    "    #得到的kd为元组组成的列表\n",
    "    clst=[i[0] for i in kd]\n",
    "    return clst\n",
    "\n",
    "def sortDict3(d): #sorted(iterable[, cmp[, key[, reverse]]]）\n",
    "    import operator #另一种方法，我觉得不如用lambda",
    "    kd=sorted(d.items(),key=operator.itemgetter(1))#reverse=False  默认是FALSE，升序\n",
    "    #=lambda e: (e[1], e[0]) 则为先按值排序，再按键排序\n",
    "    #得到的kd为元组组成的列表\n",
    "    clst=[i[0] for i in kd]\n",
    "    return clst\n",
    "\n",
    "'''对这个进行补充，参考知乎：如想对更多的key进行排序，如对k=[(1,2,3,4),(1,2,3,5),(1,2,2,5)]先比最后一个，\n",
    "    再比倒数第二个，最后比第一个只需在lambda表达式处返回相应元组即可：sorted(k, key=lambda x: (x[3],x[2],x[1],x[0]))\n",
    "    Out[1]: [(1, 2, 3, 4), (1, 2, 2, 5), (1, 2, 3, 5)]\n",
    "'''\n",
    "d={'a':2,'b':3,'c':1} #['c','a','b']\n",
    "def sortDict2(d): #用数组，n+n^2+n => O(n^2)\n",
    "    alst=[]\n",
    "    for k,v in d.items():\n",
    "        blst=[v,k]\n",
    "        alst.append(blst)\n",
    "    #冒泡法\n",
    "    a_len=len(alst)\n",
    "    for i in range(a_len):\n",
    "        for j in range(a_len-1):\n",
    "            if alst[j][0]>alst[j+1][0]:\n",
    "                alst[j+1][0],alst[j][0]=alst[j][0],alst[j+1][0]\n",
    "                alst[j+1][1],alst[j][1]=alst[j][1],alst[j+1][1]\n",
    "    clst=[]\n",
    "    #print(alst)\n",
    "    for i in range(a_len):\n",
    "        clst.append(alst[i][1])\n",
    "    return clst\n",
    "\n",
    "k=sortDict1(d)\n",
    "print(k)"
   ]
  },
  {
   "cell_type": "markdown",
   "metadata": {},
   "source": [
    "### 参考资料\n",
    "- [Python-Offer by JushuangQiao](https://github.com/JushuangQiao/Python-Offer)"
   ]
  }
 ],
 "metadata": {
  "kernelspec": {
   "display_name": "Python 3",
   "language": "python",
   "name": "python3"
  },
  "language_info": {
   "codemirror_mode": {
    "name": "ipython",
    "version": 3
   },
   "file_extension": ".py",
   "mimetype": "text/x-python",
   "name": "python",
   "nbconvert_exporter": "python",
   "pygments_lexer": "ipython3",
   "version": "3.6.0"
  }
 },
 "nbformat": 4,
 "nbformat_minor": 2
}
